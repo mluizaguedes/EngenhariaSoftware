{
  "cells": [
    {
      "cell_type": "code",
      "execution_count": null,
      "metadata": {
        "colab": {
          "base_uri": "https://localhost:8080/"
        },
        "id": "n_vgS5BRfGGD",
        "outputId": "a9af5cac-046d-4a6b-cf9b-6080ff36896a"
      },
      "outputs": [
        {
          "output_type": "stream",
          "name": "stdout",
          "text": [
            "Collecting python-telegram-bot==13.7\n",
            "  Downloading python_telegram_bot-13.7-py3-none-any.whl (490 kB)\n",
            "\u001b[2K     \u001b[90m━━━━━━━━━━━━━━━━━━━━━━━━━━━━━━━━━━━━━━━━\u001b[0m \u001b[32m490.1/490.1 kB\u001b[0m \u001b[31m3.4 MB/s\u001b[0m eta \u001b[36m0:00:00\u001b[0m\n",
            "\u001b[?25hRequirement already satisfied: certifi in /usr/local/lib/python3.10/dist-packages (from python-telegram-bot==13.7) (2024.2.2)\n",
            "Requirement already satisfied: tornado>=6.1 in /usr/local/lib/python3.10/dist-packages (from python-telegram-bot==13.7) (6.3.3)\n",
            "Collecting APScheduler==3.6.3 (from python-telegram-bot==13.7)\n",
            "  Downloading APScheduler-3.6.3-py2.py3-none-any.whl (58 kB)\n",
            "\u001b[2K     \u001b[90m━━━━━━━━━━━━━━━━━━━━━━━━━━━━━━━━━━━━━━━━\u001b[0m \u001b[32m58.9/58.9 kB\u001b[0m \u001b[31m3.6 MB/s\u001b[0m eta \u001b[36m0:00:00\u001b[0m\n",
            "\u001b[?25hRequirement already satisfied: pytz>=2018.6 in /usr/local/lib/python3.10/dist-packages (from python-telegram-bot==13.7) (2023.4)\n",
            "Collecting cachetools==4.2.2 (from python-telegram-bot==13.7)\n",
            "  Downloading cachetools-4.2.2-py3-none-any.whl (11 kB)\n",
            "Requirement already satisfied: setuptools>=0.7 in /usr/local/lib/python3.10/dist-packages (from APScheduler==3.6.3->python-telegram-bot==13.7) (67.7.2)\n",
            "Requirement already satisfied: six>=1.4.0 in /usr/local/lib/python3.10/dist-packages (from APScheduler==3.6.3->python-telegram-bot==13.7) (1.16.0)\n",
            "Requirement already satisfied: tzlocal>=1.2 in /usr/local/lib/python3.10/dist-packages (from APScheduler==3.6.3->python-telegram-bot==13.7) (5.2)\n",
            "Installing collected packages: cachetools, APScheduler, python-telegram-bot\n",
            "  Attempting uninstall: cachetools\n",
            "    Found existing installation: cachetools 5.3.3\n",
            "    Uninstalling cachetools-5.3.3:\n",
            "      Successfully uninstalled cachetools-5.3.3\n",
            "Successfully installed APScheduler-3.6.3 cachetools-4.2.2 python-telegram-bot-13.7\n"
          ]
        }
      ],
      "source": [
        "!pip install python-telegram-bot==13.7"
      ]
    },
    {
      "cell_type": "code",
      "execution_count": null,
      "metadata": {
        "colab": {
          "base_uri": "https://localhost:8080/"
        },
        "id": "n8jImdUxJsOJ",
        "outputId": "a9ec8721-4793-4287-a0fb-ed6e6c3201aa"
      },
      "outputs": [
        {
          "output_type": "stream",
          "name": "stdout",
          "text": [
            "Collecting llama_cpp_python\n",
            "  Downloading llama_cpp_python-0.2.75.tar.gz (48.7 MB)\n",
            "\u001b[2K     \u001b[90m━━━━━━━━━━━━━━━━━━━━━━━━━━━━━━━━━━━━━━━━\u001b[0m \u001b[32m48.7/48.7 MB\u001b[0m \u001b[31m14.4 MB/s\u001b[0m eta \u001b[36m0:00:00\u001b[0m\n",
            "\u001b[?25h  Installing build dependencies ... \u001b[?25l\u001b[?25hdone\n",
            "  Getting requirements to build wheel ... \u001b[?25l\u001b[?25hdone\n",
            "  Installing backend dependencies ... \u001b[?25l\u001b[?25hdone\n",
            "  Preparing metadata (pyproject.toml) ... \u001b[?25l\u001b[?25hdone\n",
            "Requirement already satisfied: typing-extensions>=4.5.0 in /usr/local/lib/python3.10/dist-packages (from llama_cpp_python) (4.11.0)\n",
            "Requirement already satisfied: numpy>=1.20.0 in /usr/local/lib/python3.10/dist-packages (from llama_cpp_python) (1.25.2)\n",
            "Collecting diskcache>=5.6.1 (from llama_cpp_python)\n",
            "  Downloading diskcache-5.6.3-py3-none-any.whl (45 kB)\n",
            "\u001b[2K     \u001b[90m━━━━━━━━━━━━━━━━━━━━━━━━━━━━━━━━━━━━━━━━\u001b[0m \u001b[32m45.5/45.5 kB\u001b[0m \u001b[31m5.4 MB/s\u001b[0m eta \u001b[36m0:00:00\u001b[0m\n",
            "\u001b[?25hRequirement already satisfied: jinja2>=2.11.3 in /usr/local/lib/python3.10/dist-packages (from llama_cpp_python) (3.1.4)\n",
            "Requirement already satisfied: MarkupSafe>=2.0 in /usr/local/lib/python3.10/dist-packages (from jinja2>=2.11.3->llama_cpp_python) (2.1.5)\n",
            "Building wheels for collected packages: llama_cpp_python\n",
            "  Building wheel for llama_cpp_python (pyproject.toml) ... \u001b[?25l\u001b[?25hdone\n",
            "  Created wheel for llama_cpp_python: filename=llama_cpp_python-0.2.75-cp310-cp310-linux_x86_64.whl size=3688356 sha256=cc0580eeb39e8b84a10505dce560ca8e030d6b3341b9cc46d2d2e7b9e56fc11c\n",
            "  Stored in directory: /root/.cache/pip/wheels/5e/df/9a/e4bb2e48bfa64fb174f0f786296c8507dbebea2a112f1adf8d\n",
            "Successfully built llama_cpp_python\n",
            "Installing collected packages: diskcache, llama_cpp_python\n",
            "Successfully installed diskcache-5.6.3 llama_cpp_python-0.2.75\n"
          ]
        }
      ],
      "source": [
        "!pip install llama_cpp_python"
      ]
    },
    {
      "cell_type": "code",
      "execution_count": null,
      "metadata": {
        "colab": {
          "base_uri": "https://localhost:8080/"
        },
        "id": "WeRvsa2ErHzo",
        "outputId": "2925083a-4857-4dee-b03d-9c716db73914"
      },
      "outputs": [
        {
          "output_type": "stream",
          "name": "stdout",
          "text": [
            "Collecting pytelegrambotapi\n",
            "  Downloading pytelegrambotapi-4.18.0-py3-none-any.whl (242 kB)\n",
            "\u001b[2K     \u001b[90m━━━━━━━━━━━━━━━━━━━━━━━━━━━━━━━━━━━━━━━━\u001b[0m \u001b[32m242.9/242.9 kB\u001b[0m \u001b[31m3.2 MB/s\u001b[0m eta \u001b[36m0:00:00\u001b[0m\n",
            "\u001b[?25hRequirement already satisfied: requests in /usr/local/lib/python3.10/dist-packages (from pytelegrambotapi) (2.31.0)\n",
            "Requirement already satisfied: charset-normalizer<4,>=2 in /usr/local/lib/python3.10/dist-packages (from requests->pytelegrambotapi) (3.3.2)\n",
            "Requirement already satisfied: idna<4,>=2.5 in /usr/local/lib/python3.10/dist-packages (from requests->pytelegrambotapi) (3.7)\n",
            "Requirement already satisfied: urllib3<3,>=1.21.1 in /usr/local/lib/python3.10/dist-packages (from requests->pytelegrambotapi) (2.0.7)\n",
            "Requirement already satisfied: certifi>=2017.4.17 in /usr/local/lib/python3.10/dist-packages (from requests->pytelegrambotapi) (2024.2.2)\n",
            "Installing collected packages: pytelegrambotapi\n",
            "Successfully installed pytelegrambotapi-4.18.0\n"
          ]
        }
      ],
      "source": [
        "! pip install pytelegrambotapi"
      ]
    },
    {
      "cell_type": "code",
      "execution_count": null,
      "metadata": {
        "id": "cy_o_gpOJzYa"
      },
      "outputs": [],
      "source": [
        "from llama_cpp import Llama\n",
        "from llama_cpp.llama_tokenizer import LlamaHFTokenizer"
      ]
    },
    {
      "cell_type": "code",
      "execution_count": null,
      "metadata": {
        "id": "IkYqoehLqVmL"
      },
      "outputs": [],
      "source": [
        "import telebot"
      ]
    },
    {
      "cell_type": "code",
      "execution_count": null,
      "metadata": {
        "id": "11qB45virDZY"
      },
      "outputs": [],
      "source": [
        "API_TOKEN = '7104183144:AAHz81RRtZg1RSfm-02x8ARv3eZuJhhbPcs'\n",
        "bot = telebot.TeleBot(API_TOKEN)"
      ]
    },
    {
      "cell_type": "code",
      "execution_count": null,
      "metadata": {
        "id": "xQyU6prwqv7N"
      },
      "outputs": [],
      "source": [
        "import sqlite3\n",
        "\n",
        "# Conectar ao banco de dados SQLite\n",
        "conn = sqlite3.connect('milkshakes.db')\n",
        "c = conn.cursor()\n",
        "\n",
        "# Criar tabela de sabores de milkshakes\n",
        "c.execute('''CREATE TABLE IF NOT EXISTS milkshake_flavors\n",
        "             (id INTEGER PRIMARY KEY, flavor TEXT)''')\n",
        "\n",
        "# Inserir alguns tipos de milkshake na tabela de sabores\n",
        "milkshake_flavors = [\n",
        "    ('Chocolate',),\n",
        "    ('Morango',),\n",
        "    ('Baunilha',),\n",
        "    ('Caramelo',),\n",
        "    ('Ovomaltine',),\n",
        "    ('KinderOvo',),\n",
        "    ('Banana',)\n",
        "]\n",
        "\n",
        "c.executemany('INSERT INTO milkshake_flavors (flavor) VALUES (?)', milkshake_flavors)\n",
        "# Salvar as alterações e fechar a conexão\n",
        "conn.commit()\n",
        "conn.close()\n"
      ]
    },
    {
      "cell_type": "code",
      "execution_count": null,
      "metadata": {
        "id": "uRELYlF6q1F1"
      },
      "outputs": [],
      "source": [
        "import sqlite3\n",
        "\n",
        "# Função para conectar ao banco de dados\n",
        "def connect_db():\n",
        "    return sqlite3.connect('milkshakes.db')\n",
        "\n",
        "# Função para buscar os tipos de milkshake disponíveis\n",
        "def get_milkshake_types():\n",
        "    conn = connect_db()\n",
        "    c = conn.cursor()\n",
        "    c.execute('SELECT flavor FROM milkshake_flavors')\n",
        "    flavors = c.fetchall()\n",
        "    conn.close()\n",
        "    return [flavor[0] for flavor in flavors]\n",
        "\n",
        "# Função para buscar o preço de um milkshake específico\n",
        "def get_milkshake_price(flavor):\n",
        "    conn = connect_db()\n",
        "    c = conn.cursor()\n",
        "    c.execute('SELECT price FROM milkshake_prices JOIN milkshake_flavors ON milkshake_prices.flavor_id = milkshake_flavors.id WHERE flavor = ?', (flavor,))\n",
        "    price = c.fetchone()\n",
        "    conn.close()\n",
        "    print(\"Price for\", flavor, \":\", price)  # Instrução de depuração\n",
        "    if price is not None:\n",
        "        return price[0]\n",
        "    else:\n",
        "        return None\n",
        "\n",
        "\n",
        "\n",
        "# Função para adicionar um milkshake à lista\n",
        "def add_to_list(milkshake, milkshake_list, price_list):\n",
        "    price = get_milkshake_price(milkshake)\n",
        "    if price is not None:\n",
        "        milkshake_list.append(milkshake)\n",
        "        price_list.append(price)\n",
        "    else:\n",
        "        print(f\"Preço não encontrado para o milkshake: {milkshake}\")\n",
        "\n",
        "# Função para calcular o custo total dos milkshakes na lista\n",
        "def calculate_total_cost(price_list):\n",
        "    total_cost = sum(price_list)\n",
        "    return total_cost\n",
        "\n",
        "chosen_flavors = []  # Lista para armazenar os sabores escolhidos\n",
        "chosen_prices = []  # Lista para armazenar os preços dos sabores escolhidos\n",
        "\n",
        "def process_message(message):\n",
        "    milkshake_types = get_milkshake_types()\n",
        "\n",
        "    # Verifica se o usuário está solicitando sabores disponíveis\n",
        "    if \"sabores\" in message.text.lower():\n",
        "        response = f\"Olá! Temos os seguintes sabores de milkshake disponíveis: {', '.join(milkshake_types)}. Por favor, liste os sabores desejados.\"\n",
        "        return response\n",
        "\n",
        "    # Verifica se o usuário está adicionando sabores à lista\n",
        "    elif message.text.lower() in [flavor.lower() for flavor in milkshake_types]:\n",
        "        chosen_flavor = message.text.lower()\n",
        "        chosen_flavors.append(chosen_flavor)\n",
        "        response = f\"Você adicionou '{chosen_flavor}' à sua lista de pedidos. Se desejar mais algum sabor, por favor, liste-o. Caso contrário, diga 'confirmar'.\"\n",
        "        return response\n",
        "\n",
        "    # Verifica se o usuário deseja confirmar a lista de pedidos\n",
        "    elif \"confirmar\" in message.text.lower():\n",
        "        if chosen_flavors:\n",
        "            response = f\"Você confirmou os seguintes sabores: {', '.join(chosen_flavors)}. Um atendente virá em breve para tratar dos pagamentos. Obrigado por escolher nossos milkshakes!\"\n",
        "            return response\n",
        "        else:\n",
        "            response = \"Você ainda não selecionou nenhum sabor. Por favor, liste os sabores desejados.\"\n",
        "            return response\n",
        "\n",
        "    else:\n",
        "        response = \"Desculpe, não entendi. Por favor, liste os sabores desejados ou confirme sua lista com a palavra 'confirmar'.\"\n",
        "        return response\n",
        "\n",
        "\n",
        "\n",
        "# Integrar com o manipulador de mensagens do bot\n",
        "@bot.message_handler(func=lambda message: True)\n",
        "def reply_to_message(message):\n",
        "    response = process_message(message)\n",
        "    if response:\n",
        "        bot.reply_to(message, response)"
      ]
    },
    {
      "cell_type": "code",
      "execution_count": null,
      "metadata": {
        "id": "I4NYXbd-raxT"
      },
      "outputs": [],
      "source": [
        "bot.polling()"
      ]
    }
  ],
  "metadata": {
    "colab": {
      "provenance": []
    },
    "kernelspec": {
      "display_name": "Python 3",
      "name": "python3"
    },
    "language_info": {
      "name": "python"
    }
  },
  "nbformat": 4,
  "nbformat_minor": 0
}